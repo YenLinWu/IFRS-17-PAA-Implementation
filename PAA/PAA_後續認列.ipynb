{
 "cells": [
  {
   "cell_type": "code",
   "execution_count": null,
   "metadata": {},
   "outputs": [],
   "source": [
    "import os\n",
    "import numpy as np\n",
    "import pandas as pd\n",
    "import time\n",
    "import copy\n",
    "import datetime\n",
    "from datetime import datetime\n",
    "\n",
    "# 忽略警告訊息\n",
    "import warnings\n",
    "warnings.filterwarnings( 'ignore' )"
   ]
  },
  {
   "cell_type": "markdown",
   "metadata": {},
   "source": [
    "###  輸入相關資訊"
   ]
  },
  {
   "cell_type": "code",
   "execution_count": null,
   "metadata": {},
   "outputs": [],
   "source": [
    "\"\"\" 輸入評估日 \"\"\"\n",
    "valuation_date = '2018-06-30'\n",
    "\n",
    "\n",
    "\"\"\" 輸入資料儲存路徑 \"\"\"\n",
    "# 前期產出的資料路徑\n",
    "dir_data_1 = '/Users/YenLin/Desktop/PAA'    \n",
    "\n",
    "# 當期保單、保費及賠款資料路徑\n",
    "dir_data_2 = '/Users/YenLin/Desktop/PAA/Data/'\n",
    "\n",
    "\n",
    "\"\"\" 輸入當期保單及保費資料檔名 \"\"\"\n",
    "policy_data_name = '保單資料_2018Q2.txt'\n",
    "premium_data_name = '保費資料_2018Q2.txt'\n",
    "loss_data_name = '賠款資料_2018Q2.txt'\n",
    "\n",
    "\n",
    "# 評估所屬年度及季別\n",
    "valuation_year = int( valuation_date[ 0:4 ] )\n",
    "if ( valuation_date[ 5:7 ] == '03' ) : \n",
    "    Quarter = 'Q1'\n",
    "    previous_Quarter = 'Q4'\n",
    "    previous_valuation_year = valuation_year - 1 \n",
    "elif ( valuation_date[ 5:7 ] == '06' ) : \n",
    "    Quarter = 'Q2'\n",
    "    previous_Quarter = 'Q1'\n",
    "    previous_valuation_year = valuation_year \n",
    "elif ( valuation_date[ 5:7 ] == '09' ) : \n",
    "    Quarter = 'Q3'  \n",
    "    previous_Quarter = 'Q2'\n",
    "    previous_valuation_year = valuation_year \n",
    "else : \n",
    "    Quarter = 'Q4'  \n",
    "    previous_Quarter = 'Q3'\n",
    "    previous_valuation_year = valuation_year \n",
    "    \n",
    "# 前期產出的資料檔名\n",
    "previous_data_name = str( previous_valuation_year ) + '_' + Quarter + '_data.txt' \n",
    "previous_statement_data_name = str( previous_valuation_year ) + '_' + Quarter + '_statement_data.txt' \n",
    "Position_table_name = str( previous_valuation_year ) + '_' + Quarter + '_Position_table.txt'\n",
    "Performance_table_name = str( previous_valuation_year ) + '_' + Quarter + '_Performance_table.txt'\n"
   ]
  },
  {
   "cell_type": "markdown",
   "metadata": {},
   "source": [
    "##### 讀取資料"
   ]
  },
  {
   "cell_type": "code",
   "execution_count": null,
   "metadata": {},
   "outputs": [],
   "source": [
    "# 前期產出的資料\n",
    "previous_data = os.path.join( dir_data_1, previous_data_name )\n",
    "previous_statement_data = os.path.join( dir_data_1, previous_statement_data_name )\n",
    "Position_table = os.path.join( dir_data_1, Position_table_name )\n",
    "Performance_table = os.path.join( dir_data_1, Performance_table_name )\n",
    "\n",
    "# 當期保單及保費資料\n",
    "policy_data = os.path.join( dir_data_2, policy_data_name )\n",
    "premium_data = os.path.join( dir_data_2, premium_data_name )\n",
    "loss_data = os.path.join( dir_data_2, loss_data_name )\n",
    "\n",
    "\n",
    "print( 'Path of Previous Data: %s' % ( previous_data ) )\n",
    "print( 'Path of Previous Statement Data: %s' % ( previous_statement_data ) )\n",
    "print( 'Path of Previous Position Table: %s' % ( Position_table ) )\n",
    "print( 'Path of Previous Performance Table: %s' % ( Performance_table ) )\n",
    "print( 'Path of Policy Data: %s' % ( policy_data ) )\n",
    "print( 'Path of Premium Data: %s' % ( premium_data ) )\n",
    "print( 'Path of Loss Data: %s' % ( loss_data ) )\n",
    "\n",
    "\n",
    "# 資料讀取\n",
    "Previous_data = pd.read_csv( previous_data, encoding = 'utf-8' )\n",
    "Previous_statement_data = pd.read_csv( previous_statement_data, encoding = 'utf-8' )\n",
    "Position_table = pd.read_csv( Position_table, encoding = 'utf-8' )\n",
    "Performance_table = pd.read_csv( Performance_table, encoding = 'utf-8' ) \n",
    "Policy_data = pd.read_csv( policy_data, encoding = 'utf-8' )\n",
    "Premium_data = pd.read_csv( premium_data, encoding = 'utf-8' )\n",
    "Loss_data = pd.read_csv( loss_data, encoding = 'utf-8' )"
   ]
  },
  {
   "cell_type": "markdown",
   "metadata": {},
   "source": [
    "##### 保單及保費資料格式調整\n",
    "- 時間欄位  \n",
    "- 百分比轉浮點小數"
   ]
  },
  {
   "cell_type": "code",
   "execution_count": null,
   "metadata": {},
   "outputs": [],
   "source": [
    "Policy_date_col = [ '簽單日', '保費到期日', '保險起日', '保險迄日' ]\n",
    "Policy_percentage_col = [ '佣金率' ]\n",
    "Premium_date_col = [ '保費收取日', '佣金支付日' ]\n",
    "\n",
    "for col in Policy_date_col :\n",
    "    Policy_data[ col ] = Policy_data[ col ].apply( lambda X : datetime.strptime( X, '%Y-%m-%d' ).date( ) ) \n",
    "\n",
    "for col in Policy_percentage_col :  \n",
    "    Policy_data[ col ] = Policy_data[ col ].str.strip( '%' ).astype( float ) / 100 \n",
    "\n",
    "for col in Premium_date_col :\n",
    "    Premium_data[ col ] = Premium_data[ col ].apply( lambda X : datetime.strptime( X, '%Y-%m-%d' ).date( ) ) \n",
    "    \n",
    "    \n",
    "print( str( valuation_year ) + ' ' + str( Quarter ) + '  當期之保單資料筆數 = ' + str( Policy_data.shape[0] ) + '\\n' )\n",
    "print( str( valuation_year ) + ' ' + str( Quarter ) + '  當期之保費資料筆數 = ' + str( Premium_data.shape[0] ) + '\\n' )\n"
   ]
  },
  {
   "cell_type": "markdown",
   "metadata": {},
   "source": [
    "##### 檢視當期保單及保費資料（ 前15筆 ）"
   ]
  },
  {
   "cell_type": "code",
   "execution_count": null,
   "metadata": {},
   "outputs": [],
   "source": [
    "print( str( valuation_year ) + ' ' + str( Quarter ) + '  當期之保單資料 : ' ) \n",
    "Policy_data.head( 15 )"
   ]
  },
  {
   "cell_type": "code",
   "execution_count": null,
   "metadata": {},
   "outputs": [],
   "source": [
    "print( str( valuation_year ) + ' ' + str( Quarter ) + '  當期之保費資料 : ' ) \n",
    "Premium_data.head( 15 )"
   ]
  },
  {
   "cell_type": "code",
   "execution_count": null,
   "metadata": {},
   "outputs": [],
   "source": [
    "print( str( valuation_year ) + ' ' + str( Quarter ) + '  當期之賠款資料 : ' ) \n",
    "Loss_data.head( 15 )"
   ]
  },
  {
   "cell_type": "markdown",
   "metadata": {},
   "source": [
    "##### 合併保單及保費資料\n",
    "- 當期合併\n",
    "- 當期與前期合併\n",
    "- 更新 保費 及 佣金 相關欄位 ( ex: 金額及日期 )\n",
    "- 保單除列 ？？？"
   ]
  },
  {
   "cell_type": "code",
   "execution_count": null,
   "metadata": {},
   "outputs": [],
   "source": [
    "cols_name = [ '保批單號碼', 'Group', '簽單日', '保費到期日', '保險起日', '保險迄日', '簽單保費', '佣金率', '保費收取日', '保費收取金額', '佣金支付日', '佣金支付金額' ]\n",
    "\n",
    "# 當期合併\n",
    "current_data = pd.merge( Policy_data, Premium_data, on = [ '保批單號碼' ], how = 'left' )\n",
    "current_data = current_data[ cols_name ]                # 調整欄位順序\n",
    "current_data_temp = copy.deepcopy( current_data )  # 複製資料\n",
    "\n",
    "# 當期與前期資料合併\n",
    "Data = pd.concat( [ Previous_data, current_data ], axis = 0 )\n",
    "\n",
    "# 更新前期尚未收取保費的保單\n",
    "Data.set_index( '保批單號碼', inplace = True )\n",
    "Premium_data.set_index( '保批單號碼', inplace = True )\n",
    "Data.update( Premium_data ) \n",
    "\n",
    "\n",
    "print( '合併且更新後，資料總比數 = ' + str( Data.shape[0] ) + '\\n' )\n",
    "print( '檢視合併且更新後資料 (前15筆) : ' )\n",
    "Data.head( 15 )"
   ]
  },
  {
   "cell_type": "markdown",
   "metadata": {},
   "source": [
    "##### 計算每張保單的「 保期(月) 」及「 當期已過月數 」"
   ]
  },
  {
   "cell_type": "code",
   "execution_count": null,
   "metadata": {},
   "outputs": [],
   "source": [
    "# 定義計算月數函數\n",
    "def months( data, evaluate_date ) :\n",
    "    start_year = data[ '保險起日' ].apply( lambda X : X.year )                             # 年度 of 保險起日\n",
    "    end_year = data[ '保險迄日' ].apply( lambda X : X.year )                              # 年度 of 保險迄日\n",
    "    start_month = data[ '保險起日' ].apply( lambda X : X.month )                       # 月份 of 保險起日\n",
    "    end_month = data[ '保險迄日' ].apply( lambda X : X.month )                        # 月份 of 保險迄日\n",
    "    evaluate_date = datetime.strptime( evaluate_date, '%Y-%m-%d' ).date( )    # 評估日\n",
    "    evaluate_year = evaluate_date.year                                                          # 評估日所屬年度\n",
    "    evaluate_month = evaluate_date.month                                                    # 評估日所屬月份\n",
    "    \n",
    "    if ( evaluate_month == 3 ) : \n",
    "        q_start_date = str( evaluate_year ) + '-' + '01-01'\n",
    "        q_start_date =  datetime.strptime( q_start_date, '%Y-%m-%d' ).date( )   # 評估季的第一天日期   \n",
    "    elif ( evaluate_month == 6 ) :\n",
    "        q_start_date = str( evaluate_year ) + '-' + '04-01'\n",
    "        q_start_date =  datetime.strptime( q_start_date, '%Y-%m-%d' ).date( )   # 評估季的第一天日期\n",
    "    elif ( evaluate_month == 9 ) :\n",
    "        q_start_date = str( evaluate_year ) + '-' + '07-01'\n",
    "        q_start_date =  datetime.strptime( q_start_date, '%Y-%m-%d' ).date( )  # 評估季的第一天日期\n",
    "    else :  \n",
    "        q_start_date = str( evaluate_year ) + '-' + '10-01'\n",
    "        q_start_date =  datetime.strptime( q_start_date, '%Y-%m-%d' ).date( )  # 評估季的第一天日期\n",
    "\n",
    "    # 計算「 保期(月) 」\n",
    "    data[ '保期(月)' ] = ( end_year - start_year )*12 + ( end_month - start_month + 1 )\n",
    "    \n",
    "    # 計算「 當期已經過月數 」\n",
    "    data[ '當期已經過月數' ] = np.nan\n",
    "    for i in np.arange( data.shape[0] ) : \n",
    "        first_date = max( q_start_date,  data[ '保險起日' ][ i ] )\n",
    "        least_date = min( evaluate_date, data[ '保險迄日' ][ i ] ) \n",
    "        first_year = first_date.year\n",
    "        first_month = first_date.month\n",
    "        least_year = least_date.year\n",
    "        least_month = least_date.month\n",
    "        data[ '當期已經過月數' ][ i ] = max( ( least_year - first_year )*12 + ( least_month - first_month + 1 ), 0 )\n",
    "\n",
    "    return data.head( 15 )\n"
   ]
  },
  {
   "cell_type": "code",
   "execution_count": null,
   "metadata": {},
   "outputs": [],
   "source": [
    "months( Data, evaluate_date )"
   ]
  },
  {
   "cell_type": "markdown",
   "metadata": {},
   "source": [
    "##### 填補及計算下列項目\n",
    "- 填補「 期初LRC 」               \n",
    "- 填補「 當期已收保費 」        \n",
    "- 填補「 當期已付佣金 」       \n",
    "- 計算「 當期認列之合約收入 」\n",
    "- 計算「 取得成本攤銷 」         \n",
    "- 計算「 期末LRC 」               \n",
    "- 計算「 累積已收保費 」         \n",
    "- 計算「 累積已付佣金 」         "
   ]
  },
  {
   "cell_type": "code",
   "execution_count": null,
   "metadata": {},
   "outputs": [],
   "source": [
    "Data.reset_index( level = '保批單號碼', inplace = True )\n",
    "\n",
    "# 前期資料的「 保批單號碼 」\n",
    "Previous_Policy_NO = list( Previous_statement_data[ '保批單號碼' ] )\n",
    "\n",
    "# 填補「 期初LRC 」\n",
    "Data[ '期初LRC' ] = np.nan  \n",
    "for i in np.arange( Data.shape[0] ) :   \n",
    "    Policy_NO = Q12_data[ '保批單號碼' ][ i ]\n",
    "    if ( Policy_NO in Previous_Policy_NO ):   \n",
    "        Data[ '期初LRC' ][ i ] = Previous_statement_data.loc[ Previous_statement_data[ '保批單號碼' ].str.contains( Policy_NO ), '期末LRC'  ]\n",
    "    else : \n",
    "        Data[ '期初LRC' ][ i ] = 0\n",
    "        \n",
    "# 填補「 當期已收保費 」 及 「 當期已付佣金 」\n",
    "Data[ '當期已收保費' ] = np.nan  \n",
    "Data[ '當期已付佣金' ] = np.nan  \n",
    "for i in np.arange( Data.shape[0] ) :   \n",
    "    Policy_NO = Data[ '保批單號碼' ][ i ]\n",
    "    if Data[ '保費收取日' ][ i ] >= q_start_date :\n",
    "        Data[ '當期已收保費' ][ i ] = Data[ '保費收取金額' ][ i ] \n",
    "        Data[ '當期已付佣金' ][ i ] = Data[ '佣金支付金額' ][ i ] \n",
    "    else : \n",
    "        Data[ '當期已收保費' ][ i ] = 0\n",
    "        Data[ '當期已付佣金' ][ i ] = 0        \n",
    "        \n",
    "# 計算「 當期認列之合約收入 」、「 取得成本攤銷 」及「 期末LRC 」\n",
    "Data[ '當期認列之合約收入' ] =  Data.apply( lambda X : X[ '簽單保費' ] * ( X[ '當期已經過月數' ] / X[ '保期(月)' ] ), axis = 1 )\n",
    "Data[ '取得成本攤銷' ] = Data.apply( lambda X : X[ '簽單保費' ] * X[ '佣金率' ] * ( X[ '當期已經過月數' ] / X[ '保期(月)' ] ), axis = 1 )\n",
    "Data[ '期末LRC' ] =  Data.apply( lambda X : X[ '期初LRC' ] + X[ '當期已收保費' ] - X[ '當期已付佣金' ] - X[ '當期認列之合約收入' ] + X[ '取得成本攤銷' ] , axis=1 )\n",
    "\n",
    "# 計算「 累積已收保費 」及「 累積已付佣金 」\n",
    "Data[ '累積已收保費' ] = np.nan\n",
    "Data[ '累積已付佣金' ] = np.nan\n",
    "for i in np.arange( Data.shape[0] ) :   \n",
    "    Policy_NO = Data[ '保批單號碼' ][ i ]\n",
    "    if ( Data[ '保批單號碼' ][ i ] in Previous_Policy_NO ) : \n",
    "        Data[ '累積已收保費' ][ i ] = previous_statement_data.loc[ previous_statement_data[ '保批單號碼' ].str.contains( Policy_NO ), '累積已收保費'  ] + Data.loc[ previous_statement_data[ '保批單號碼' ].str.contains( Policy_NO ), '當期已收保費'  ]\n",
    "        Data[ '累積已付佣金' ][ i ] = previous_statement_data.loc[ previous_statement_data[ '保批單號碼' ].str.contains( Policy_NO ), '累積已付佣金'  ] + Data.loc[ previous_statement_data[ '保批單號碼' ].str.contains( Policy_NO ), '當期已付佣金'  ]\n",
    "    else : \n",
    "        Data[ '累積已收保費' ][ i ] = Data[ '當期已收保費' ][ i ] \n",
    "        Data[ '累積已付佣金' ][ i ] = Data[ '當期已付佣金' ][ i ] \n",
    "\n",
    "        \n",
    "Data.head( 15 )"
   ]
  },
  {
   "cell_type": "markdown",
   "metadata": {},
   "source": [
    "##### 填報「 財務狀況表 」及「 財務績效表（當季）」"
   ]
  },
  {
   "cell_type": "code",
   "execution_count": null,
   "metadata": {},
   "outputs": [],
   "source": [
    "item = str( valuation_year ) + ' ' + Quarter \n",
    "previous_item = str( previous_valuation_year ) + ' ' + previous_Quarter \n",
    "\n",
    "select_col = [ '保批單號碼',  '期初LRC', '當期已收保費', '當期已付佣金', '期末LRC', '當期認列之合約收入', '取得成本攤銷', '累積已收保費', '累積已付佣金' ]\n",
    "statement_data = Data[ select_col ]"
   ]
  },
  {
   "cell_type": "code",
   "execution_count": null,
   "metadata": {},
   "outputs": [],
   "source": [
    "# 「 財務狀況表 」\n",
    "Position_table.loc[ item, : ] = np.nan\n",
    "\n",
    "# 「 現金 」(尚未考慮當期賠款！！)\n",
    "Position_table.loc[ item, '現金']  = Position_table.loc[ previous_item, '現金'] + statement_data[ '當期已收保費' ].sum( ) - statement_data[ '當期已付佣金' ].sum( )\n",
    "\n",
    "# 「 合約資產 」或「 合約負債 」\n",
    "LRC = statement_data[ '期末LRC' ].sum( )\n",
    "if LRC > 0 :\n",
    "    Position_table.loc[ item, '合約資產' ] = 0\n",
    "    Position_table.loc[ item, '合約負債' ] = LRC\n",
    "elif LRC < 0 :\n",
    "    Position_table.loc[ item, '合約資產' ] = -LRC\n",
    "    Position_table.loc[ item, '合約負債' ] = 0\n",
    "else : \n",
    "    Position_table.loc[ item, '合約資產' ] = 0 \n",
    "    Position_table.loc[ item, '合約負債' ] = 0\n",
    "\n",
    "Position_table[ '業主權益' ] = Position_table.apply( lambda X : X[ '現金' ] + X[ '合約資產' ] - X[ '合約負債' ], axis = 1 )\n",
    "\n",
    "print( str( valuation_year ) + ' ' + str( Quarter ) + ' 財務狀況表：' )\n",
    "Position_table"
   ]
  },
  {
   "cell_type": "code",
   "execution_count": null,
   "metadata": {},
   "outputs": [],
   "source": [
    "# 「 財務績效表（當季）」\n",
    "Performance_table.loc[ item, : ] = np.nan\n",
    "\n",
    "Performance_table.loc[ item, '保險合約收入' ] = statement_data[ '當期認列之合約收入' ].sum( )\n",
    "Performance_table.loc[ item, '取得成本攤銷' ] = statement_data[ '取得成本攤銷' ].sum( )\n",
    "Performance_table.loc[ item, '已發生賠款' ] = 0 # (尚未考慮當期賠款！！)\n",
    "Performance_table[ '保險損益' ] = Performance_table.apply( lambda X : X[ '保險合約收入' ] - X[ '已發生賠款' ] - X[ '取得成本攤銷' ], axis=1 )\n",
    "\n",
    "print( str( valuation_year ) + ' ' + str( Quarter ) + ' 財務績效表(當季)：' )\n",
    "Performance_table"
   ]
  },
  {
   "cell_type": "markdown",
   "metadata": {},
   "source": [
    "##### 儲存檔案 "
   ]
  },
  {
   "cell_type": "code",
   "execution_count": null,
   "metadata": {},
   "outputs": [],
   "source": [
    "current_data_temp.to_csv( str( item ) + '_data.txt', index = True, encoding = 'utf-8' ) \n",
    "statement_data.to_csv( str( item ) + '_statement_data.txt', index = True, encoding = 'utf-8' ) \n",
    "Position_table.to_csv( str( item ) + '_Position_table.txt', index = True, encoding = 'utf-8' ) \n",
    "Performance_table.to_csv( str( item ) + '_Performance_table.txt', index = True, encoding = 'utf-8' ) "
   ]
  }
 ],
 "metadata": {
  "kernelspec": {
   "display_name": "Python 3",
   "language": "python",
   "name": "python3"
  },
  "language_info": {
   "codemirror_mode": {
    "name": "ipython",
    "version": 3
   },
   "file_extension": ".py",
   "mimetype": "text/x-python",
   "name": "python",
   "nbconvert_exporter": "python",
   "pygments_lexer": "ipython3",
   "version": "3.6.8"
  }
 },
 "nbformat": 4,
 "nbformat_minor": 2
}
