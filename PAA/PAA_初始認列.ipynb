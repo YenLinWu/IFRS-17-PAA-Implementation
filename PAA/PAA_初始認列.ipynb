{
 "cells": [
  {
   "cell_type": "code",
   "execution_count": null,
   "metadata": {},
   "outputs": [],
   "source": [
    "import os\n",
    "import numpy as np\n",
    "import pandas as pd\n",
    "import time\n",
    "import copy\n",
    "import datetime\n",
    "from datetime import datetime\n",
    "\n",
    "# 忽略警告訊息\n",
    "import warnings\n",
    "warnings.filterwarnings( 'ignore' )"
   ]
  },
  {
   "cell_type": "markdown",
   "metadata": {},
   "source": [
    "### 輸入相關資訊"
   ]
  },
  {
   "cell_type": "code",
   "execution_count": null,
   "metadata": {},
   "outputs": [],
   "source": [
    "\"\"\" 輸入評估日 \"\"\"\n",
    "valuation_date = '2018-03-31'\n",
    "\n",
    "\"\"\" 選擇佣金費用處理方式 \"\"\"\n",
    "# amortization : 分期攤銷；Expensing：費用化\n",
    "Method = 'amortization'\n",
    "\n",
    "\"\"\" 輸入資料儲存路徑 \"\"\"\n",
    "dir_data = '/Users/YenLin/Desktop/PAA/Raw_Data/'\n",
    "\n",
    "\"\"\" 輸入當期保單及保費資料檔名 \"\"\"\n",
    "policy_data_name = '保單資料_2018Q1.txt'\n",
    "premium_data_name = '保費資料_2018Q1.txt'\n",
    "loss_data_name = '賠款資料_2018Q1.txt'\n",
    "\n",
    "# 評估日所屬年度及季別\n",
    "valuation_year = int( valuation_date[ 0:4 ] )\n",
    "if ( valuation_date[ 5:7 ] == '03' ) : \n",
    "    Quarter = 'Q1'\n",
    "    previous_Quarter = 'Q4'\n",
    "    previous_valuation_year = valuation_year - 1 \n",
    "elif ( valuation_date[ 5:7 ] == '06' ) : \n",
    "    Quarter = 'Q2'\n",
    "    previous_Quarter = 'Q1'\n",
    "    previous_valuation_year = valuation_year \n",
    "elif ( valuation_date[ 5:7 ] == '09' ) : \n",
    "    Quarter = 'Q3'  \n",
    "    previous_Quarter = 'Q2'\n",
    "    previous_valuation_year = valuation_year \n",
    "else : \n",
    "    Quarter = 'Q4'  \n",
    "    previous_Quarter = 'Q3'\n",
    "    previous_valuation_year = valuation_year \n"
   ]
  },
  {
   "cell_type": "markdown",
   "metadata": {},
   "source": [
    "### 讀取資料"
   ]
  },
  {
   "cell_type": "code",
   "execution_count": null,
   "metadata": {},
   "outputs": [],
   "source": [
    "policy_data = os.path.join( dir_data, policy_data_name )\n",
    "premium_data = os.path.join( dir_data, premium_data_name )\n",
    "loss_data = os.path.join( dir_data, loss_data_name )\n",
    "\n",
    "print( 'Path of Policy Data: %s' % ( policy_data ) )\n",
    "print( 'Path of Premium Data: %s' % ( premium_data ) )\n",
    "print( 'Path of loss Data: %s' % ( loss_data ) )\n",
    "\n",
    "# 資料讀取\n",
    "Policy_data = pd.read_csv( policy_data, encoding = 'utf-8' )\n",
    "Premium_data = pd.read_csv( premium_data, encoding = 'utf-8' )\n",
    "Loss_data = pd.read_csv( loss_data, encoding = 'utf-8' )"
   ]
  },
  {
   "cell_type": "markdown",
   "metadata": {},
   "source": [
    "### 資料格式調整\n",
    "- 日期欄位  \n",
    "- 百分比轉浮點小數"
   ]
  },
  {
   "cell_type": "code",
   "execution_count": null,
   "metadata": {},
   "outputs": [],
   "source": [
    "Policy_date_col = [ '簽單日', '保費到期日', '保險起日', '保險迄日' ]\n",
    "Policy_percentage_col = [ '佣金率' ]\n",
    "Premium_date_col = [ '保費收取日', '佣金支付日' ]\n",
    "Loss_date_col = [ '保險起日', '保險迄日', '出險日' ]\n",
    "\n",
    "for col in Policy_date_col :\n",
    "    Policy_data[ col ] = Policy_data[ col ].apply( lambda X : datetime.strptime( X, '%Y-%m-%d' ).date( ) ) \n",
    "\n",
    "for col in Policy_percentage_col :  \n",
    "    Policy_data[ col ] = Policy_data[ col ].str.strip( '%' ).astype( float ) / 100 \n",
    "\n",
    "for col in Premium_date_col :\n",
    "    Premium_data[ col ] = Premium_data[ col ].apply( lambda X : datetime.strptime( X, '%Y-%m-%d' ).date( ) ) \n",
    "\n",
    "for col in Loss_date_col :\n",
    "    Loss_data[ col ] = Loss_data[ col ].apply( lambda X : datetime.strptime( X, '%Y-%m-%d' ).date( ) ) \n"
   ]
  },
  {
   "cell_type": "markdown",
   "metadata": {},
   "source": [
    "### 檢視當期資料（ 前15筆 ）"
   ]
  },
  {
   "cell_type": "code",
   "execution_count": null,
   "metadata": {},
   "outputs": [],
   "source": [
    "print( str( valuation_year ) + ' ' + str( Quarter ) + '  當季保單資料筆數 = ' + str( Policy_data.shape[0] ) + '\\n' )\n",
    "print( str( valuation_year ) + ' ' + str( Quarter ) + '  當季保單資料 : ' ) \n",
    "Policy_data.head( 15 )"
   ]
  },
  {
   "cell_type": "code",
   "execution_count": null,
   "metadata": {},
   "outputs": [],
   "source": [
    "print( str( valuation_year ) + ' ' + str( Quarter ) + '  當季保費資料筆數 = ' + str( Premium_data.shape[0] ) + '\\n' )\n",
    "print( str( valuation_year ) + ' ' + str( Quarter ) + '  當季保費資料 : ' ) \n",
    "Premium_data.head( 15 )"
   ]
  },
  {
   "cell_type": "code",
   "execution_count": null,
   "metadata": {},
   "outputs": [],
   "source": [
    "print( str( valuation_year ) + ' ' + str( Quarter ) + '  當季賠款資料筆數 = ' + str( Loss_data.shape[0] ) + '\\n' )\n",
    "print( str( valuation_year ) + ' ' + str( Quarter ) + '  當季賠款資料 : ' ) \n",
    "Loss_data.head( 15 )"
   ]
  },
  {
   "cell_type": "markdown",
   "metadata": {},
   "source": [
    "### 合併當季的保單及保費資料"
   ]
  },
  {
   "cell_type": "code",
   "execution_count": null,
   "metadata": {},
   "outputs": [],
   "source": [
    "cols_name = [ '保批單號碼', 'Group', '簽單日', '保費到期日', '保險起日', '保險迄日', '簽單保費', '佣金率', '保費收取日', '保費收取金額', '佣金支付日', '佣金支付金額' ]\n",
    "\n",
    "current_data = pd.merge( Policy_data, Premium_data, on = [ '保批單號碼' ], how = 'outer' )\n",
    "current_data = current_data[ cols_name ]                 # 調整欄位順序\n",
    "current_data_temp = copy.deepcopy( current_data )  # 複製資料\n",
    "\n",
    "print( '檢視合併後資料：' )\n",
    "current_data.head( 15 )"
   ]
  },
  {
   "cell_type": "markdown",
   "metadata": {},
   "source": [
    "### 計算「 初始認列日 」\n",
    "保險合約群組(group)應於下列日期中最早者認列：\n",
    "- 該群組保障期間開始日\n",
    "- 該群組之被保險人第一期保費到期日\n",
    "- 對於虧損性合約群組，當該群組已成為虧損時點"
   ]
  },
  {
   "cell_type": "code",
   "execution_count": null,
   "metadata": {},
   "outputs": [],
   "source": [
    "current_data[ '初始認列日' ] = np.nan\n",
    "\n",
    "# 選取合約群組中最早認列的日期\n",
    "earliest_date = current_data[ [ '保費到期日', '保險起日' ] ].min( 1 ).min( )\n",
    "\n",
    "# 判斷群組中每張保單的「初始認列日」\n",
    "for i in np.arange( current_data.shape[0] ) :\n",
    "    if min( current_data[ '保費到期日' ][ i ], current_data[ '保險起日' ][ i ] ) == earliest_date :\n",
    "        current_data[ '初始認列日' ][ i ] = earliest_date\n",
    "    elif  min( current_data[ '保費到期日' ][ i ], current_data[ '保險起日' ][ i ] ) > earliest_date :\n",
    "        current_data[ '初始認列日' ][ i ] = min( current_data[ '簽單日' ][ i ], current_data[ '保費到期日' ][ i ], current_data[ '保險起日' ][ i ] ) \n",
    "    else :\n",
    "        current_data[ '初始認列日' ][ i ] = np.nan\n",
    "\n",
    "        \n",
    "current_data"
   ]
  },
  {
   "cell_type": "markdown",
   "metadata": {},
   "source": [
    "### 計算每張保單的「 保期(月) 」及「 當期已過月數 」"
   ]
  },
  {
   "cell_type": "code",
   "execution_count": null,
   "metadata": {},
   "outputs": [],
   "source": [
    "# 定義函數，用以計算月份數\n",
    "def months( data, evaluate_date ) :\n",
    "    start_year = data[ '保險起日' ].apply( lambda X : X.year )                             # 年度 of 保險起日\n",
    "    end_year = data[ '保險迄日' ].apply( lambda X : X.year )                              # 年度 of 保險迄日\n",
    "    start_month = data[ '保險起日' ].apply( lambda X : X.month )                       # 月份 of 保險起日\n",
    "    end_month = data[ '保險迄日' ].apply( lambda X : X.month )                        # 月份 of 保險迄日\n",
    "    evaluate_date = datetime.strptime( evaluate_date, '%Y-%m-%d' ).date( )    # 評估日\n",
    "    evaluate_year = evaluate_date.year                                                          # 評估日所屬年度\n",
    "    evaluate_month = evaluate_date.month                                                    # 評估日所屬月份\n",
    "    \n",
    "    if ( evaluate_month == 3 ) : \n",
    "        q_start_date = str( evaluate_year ) + '-' + '01-01'\n",
    "        q_start_date =  datetime.strptime( q_start_date, '%Y-%m-%d' ).date( )   # 評估季的第一天日期   \n",
    "    elif ( evaluate_month == 6 ) :\n",
    "        q_start_date = str( evaluate_year ) + '-' + '04-01'\n",
    "        q_start_date =  datetime.strptime( q_start_date, '%Y-%m-%d' ).date( )   # 評估季的第一天日期\n",
    "    elif ( evaluate_month == 9 ) :\n",
    "        q_start_date = str( evaluate_year ) + '-' + '07-01'\n",
    "        q_start_date =  datetime.strptime( q_start_date, '%Y-%m-%d' ).date( )  # 評估季的第一天日期\n",
    "    else :  \n",
    "        q_start_date = str( evaluate_year ) + '-' + '10-01'\n",
    "        q_start_date =  datetime.strptime( q_start_date, '%Y-%m-%d' ).date( )  # 評估季的第一天日期\n",
    "\n",
    "    # 計算『保期(月)』\n",
    "    data[ '保期(月)' ] = ( end_year - start_year )*12 + ( end_month - start_month + 1 )\n",
    "    \n",
    "    # 計算『當期已經過月數』\n",
    "    data[ '當期已經過月數' ] = np.nan\n",
    "    for i in np.arange( data.shape[0] ) : \n",
    "        first_date = max( q_start_date,  data[ '保險起日' ][ i ] )\n",
    "        least_date = min( evaluate_date, data[ '保險迄日' ][ i ] ) \n",
    "        first_year = first_date.year\n",
    "        first_month = first_date.month\n",
    "        least_year = least_date.year\n",
    "        least_month = least_date.month\n",
    "        data[ '當期已經過月數' ][ i ] = ( least_year - first_year )*12 + ( least_month - first_month + 1 )\n",
    "\n",
    "    return data.head( 15 )\n",
    "\n",
    "\n",
    "months( current_data, valuation_date )"
   ]
  },
  {
   "cell_type": "markdown",
   "metadata": {},
   "source": [
    "### 計算及填補下列項目：\n",
    "- (1) 計算「應付佣金」\n",
    "- (2) 填補「期初LRC」\n",
    "- (3) 對於尚未收取保費或支付佣金的保單，將「保費收取金額」及「佣金支付金額」 補 0 \n",
    "- (4) 填補「當期已收保費」（ = 保費收取金額 ）\n",
    "- (5) 填補「當期已付佣金」（ = 佣金支付金額 ）\n",
    "- (6) 計算「當期認列之合約收入」  \n",
    "$ \\displaystyle 當期認列之合約收入= 簽單保費  \\times \\frac{當期已經過月數}{保期(月)} $  \n",
    "#####   \n",
    "- (7) 計算「取得成本攤銷」  \n",
    "$ \\displaystyle 取得成本攤銷 = 簽單保費  \\times 佣金率 \\times \\frac{當期已經過月數}{保期(月)} $  \n",
    "#####  \n",
    "- (8) 計算「期末LRC」  \n",
    "( a ) 佣金分期攤銷( amortization )：  \n",
    "$ 期末LRC = 期初LRC + 當期已收保費 - 當期已付佣金 - 當期認列之合約收入 + 取得成本攤銷 $   \n",
    "( b ) 佣金費用化：  \n",
    "$ 期末LRC = 期初LRC + 當期已收保費 - 當期認列之合約收入 $   \n",
    "#####   \n",
    "\n",
    "- (9) 計算「累積已收保費」\n",
    "- (10) 計算「累積已付佣金」"
   ]
  },
  {
   "cell_type": "code",
   "execution_count": null,
   "metadata": {},
   "outputs": [],
   "source": [
    "# 計算「應付佣金」\n",
    "current_data[ '應付佣金' ] = current_data.apply( lambda X : X[ '簽單保費' ] * X[ '佣金率' ], axis = 1 )\n",
    "\n",
    "# 填補「期初LRC」\n",
    "current_data[ '期初LRC' ] = 0\n",
    "\n",
    "# 填補「當期已收保費」及「當期已付佣金」\n",
    "current_data = current_data.fillna( { '保費收取金額' : 0, '佣金支付金額' : 0 } )   \n",
    "current_data[ '當期已收保費' ] = current_data[ '保費收取金額' ]\n",
    "current_data[ '當期已付佣金' ] = current_data[ '佣金支付金額' ]\n",
    "\n",
    "# 計算「當期認列之合約收入」\n",
    "current_data[ '當期認列之合約收入' ] = current_data.apply( lambda X : X[ '簽單保費' ] * ( X[ '當期已經過月數' ] / X[ '保期(月)' ] ), axis = 1 )\n",
    "\n",
    "# 計算「取得成本攤銷」\n",
    "current_data[ '取得成本攤銷' ] = current_data.apply( lambda X : X[ '簽單保費' ] * X[ '佣金率' ] * ( X[ '當期已經過月數' ] / X[ '保期(月)' ] ), axis = 1 )\n",
    "\n",
    "# 計算「期末LRC」\n",
    "current_data[ '期末LRC(amortization)' ] = current_data.apply( lambda X : X[ '期初LRC' ] + X[ '當期已收保費' ] - X[ '當期已付佣金' ] - X[ '當期認列之合約收入' ] + X[ '取得成本攤銷' ], axis=1 )\n",
    "current_data[ '期末LRC(expensing)' ] = current_data.apply( lambda X : X[ '期初LRC' ] + X[ '當期已收保費' ] - X[ '當期認列之合約收入' ], axis=1 )\n",
    "\n",
    "# 計算「累積已收保費」及「累積已付佣金」\n",
    "current_data[ '累積已收保費' ] = current_data[ '保費收取金額' ]\n",
    "current_data[ '累積已付佣金' ] = current_data[ '佣金支付金額' ]\n",
    "\n",
    "\n",
    "current_data"
   ]
  },
  {
   "cell_type": "markdown",
   "metadata": {},
   "source": [
    "### 「 財務狀況表」及「 財務績效表（當季）」"
   ]
  },
  {
   "cell_type": "code",
   "execution_count": null,
   "metadata": {},
   "outputs": [],
   "source": [
    "item = str( valuation_year ) + '_' + Quarter \n",
    "previous_item = str( previous_valuation_year ) + ' ' + previous_Quarter \n",
    "\n",
    "select_col = [ '保批單號碼', '應付佣金', '期初LRC', '當期已收保費', '當期已付佣金', '當期認列之合約收入', '取得成本攤銷', '期末LRC(amortization)', '期末LRC(expensing)', '累積已收保費', '累積已付佣金' ]\n",
    "statement_data = current_data[ select_col ]\n",
    "statement_data"
   ]
  },
  {
   "cell_type": "code",
   "execution_count": null,
   "metadata": {},
   "outputs": [],
   "source": [
    "# 「 財務狀況表 」( Statement of Financial Position )\n",
    "\n",
    "if  ( Method == 'amortization' ) :   # amortization : 分期攤銷；Expensing：費用化\n",
    "    Position_table = pd.DataFrame( columns = [ '現金', '合約資產', '合約負債' ], index = [ item ]  )\n",
    "    \n",
    "    # 當期「 現金 」 = 前期現金( =0 ) + 當期已收保費 - 當期已付佣金 ( 尚未考慮當期賠款！！ )\n",
    "    Position_table.loc[ item, '現金' ] = statement_data[ '當期已收保費' ].sum( ) - statement_data[ '當期已付佣金' ].sum( ) \n",
    "    # 「 合約資產 」或「 合約負債 」\n",
    "    LRC = statement_data[ '期末LRC(amortization)' ].sum( )\n",
    "    if LRC > 0 :\n",
    "        Position_table.loc[ item, '合約資產' ] = 0\n",
    "        Position_table.loc[ item, '合約負債' ] = LRC\n",
    "    elif LRC < 0 :\n",
    "        Position_table.loc[ item, '合約資產' ] = -LRC\n",
    "        Position_table.loc[ item, '合約負債' ] = 0\n",
    "    else : \n",
    "        Position_table.loc[ item, '合約資產' ] = 0 \n",
    "        Position_table.loc[ item, '合約負債' ] = 0\n",
    "    \n",
    "    # 「 業主權益 」= 前期現金 + 合約資產 - 合約負債\n",
    "    Position_table[ '業主權益' ] = Position_table.apply( lambda X : X[ '現金' ] + X[ '合約資產' ] - X[ '合約負債' ], axis = 1 )\n",
    "\n",
    "else :\n",
    "    Position_table = pd.DataFrame( columns = [ '現金', '合約資產', '合約負債', '應付佣金' ], index = [ item ]  )\n",
    "    \n",
    "    # 當期「 現金 」 = 前期現金( =0 ) + 累積已收保費 - 累積已付佣金 ( 尚未考慮當期賠款！！ )\n",
    "    Position_table.loc[ item, '現金' ]  = statement_data[ '累積已收保費' ].sum( ) - statement_data[ '累積已付佣金' ].sum( ) \n",
    "    # 「 合約資產 」或「 合約負債 」\n",
    "    LRC = statement_data[ '期末LRC(expensing)' ].sum( )\n",
    "    if LRC > 0 :\n",
    "        Position_table.loc[ item, '合約資產' ] = 0\n",
    "        Position_table.loc[ item, '合約負債' ] = LRC\n",
    "    elif LRC < 0 :\n",
    "        Position_table.loc[ item, '合約資產' ] = -LRC\n",
    "        Position_table.loc[ item, '合約負債' ] = 0\n",
    "    else : \n",
    "        Position_table.loc[ item, '合約資產' ] = 0 \n",
    "        Position_table.loc[ item, '合約負債' ] = 0\n",
    "    \n",
    "    # 「 應付佣金 」\n",
    "    Position_table.loc[ item, '應付佣金' ] = statement_data[ statement_data[ '累積已收保費' ] == 0 ][ '應付佣金' ].sum( )\n",
    "    # 「 業主權益 」= 當期現金 + 合約資產 - 合約負債 - 應付佣金\n",
    "    Position_table[ '業主權益' ] = Position_table.apply( lambda X : X[ '現金' ] + X[ '合約資產' ] - X[ '合約負債' ] - X[ '應付佣金' ], axis = 1 )\n",
    "\n",
    "\n",
    "Position_table.reset_index( inplace = True ) \n",
    "Position_table.rename( columns = { Position_table.columns[0]: \"Quarter\" }, inplace = True ) # 更改欄位名稱\n",
    "\n",
    "print( str( valuation_year ) + ' ' + str( Quarter ) + '  財務狀況表( ' + str( Method ) + ' ) ：' )\n",
    "Position_table"
   ]
  },
  {
   "cell_type": "code",
   "execution_count": null,
   "metadata": {},
   "outputs": [],
   "source": [
    "# 「 財務績效表（當季）」( Statement of Financial Performance )\n",
    "\n",
    "if ( Method == 'amortization' ) :  # amortization : 分期攤銷；Expensing：費用化\n",
    "    Performance_table = pd.DataFrame( columns = [ '保險合約收入', '已發生賠款', '取得成本攤銷' ], index = [ item ]  )\n",
    "    \n",
    "    # 「 保險合約收入 」\n",
    "    Performance_table.loc[ item, '保險合約收入' ] = statement_data[ '當期認列之合約收入' ].sum( )\n",
    "    # 「 取得成本攤銷 」\n",
    "    Performance_table.loc[ item, '取得成本攤銷' ] = statement_data[ '取得成本攤銷' ].sum( )\n",
    "    # 「 已發生賠款 」\n",
    "    Performance_table.loc[ item, '已發生賠款' ] = 0 # (尚未考慮當期賠款！！)\n",
    "    # 「 保險損益 」\n",
    "    Performance_table[ '保險損益' ] = Performance_table.apply( lambda X : X[ '保險合約收入' ] - X[ '已發生賠款' ] - X[ '取得成本攤銷' ], axis=1 )\n",
    "    \n",
    "else :\n",
    "    Performance_table = pd.DataFrame( columns = [ '保險合約收入', '已發生賠款', '佣金費用',  ], index = [ item ]  )\n",
    "    \n",
    "    # 「 保險合約收入 」\n",
    "    Performance_table.loc[ item, '保險合約收入' ] = statement_data[ '當期認列之合約收入' ].sum( )\n",
    "    # 「 已發生賠款 」\n",
    "    Performance_table.loc[ item, '已發生賠款' ] = 0 # (尚未考慮當期賠款！！)\n",
    "    # 「 佣金費用 」\n",
    "    Performance_table.loc[ item, '佣金費用' ] = statement_data[ '應付佣金' ].sum( )\n",
    "    # 「 保險損益 」\n",
    "    Performance_table[ '保險損益' ] = Performance_table.apply( lambda X : X[ '保險合約收入' ] - X[ '已發生賠款' ] - X[ '佣金費用' ], axis=1 )\n",
    "    \n",
    "    \n",
    "Performance_table.reset_index( inplace = True ) \n",
    "Performance_table.rename( columns = { Performance_table.columns[0]: \"Quarter\" }, inplace = True ) # 更改欄位名稱\n",
    "\n",
    "print( str( valuation_year ) + ' ' + str( Quarter ) + ' 財務績效表(當季)  ( ' + str( Method ) + ' ) ：'  )\n",
    "Performance_table"
   ]
  },
  {
   "cell_type": "markdown",
   "metadata": {},
   "source": [
    "### 儲存檔案 "
   ]
  },
  {
   "cell_type": "code",
   "execution_count": null,
   "metadata": {},
   "outputs": [],
   "source": [
    "current_data_temp.to_csv( str( item ) + '_data.txt', index = False, encoding = 'utf-8' ) \n",
    "statement_data.to_csv( str( item ) + '_statement_data.txt', index = False, encoding = 'utf-8' ) \n",
    "Position_table.to_csv( str( item ) + '_Position_table.txt', index = False, encoding = 'utf-8' ) \n",
    "Performance_table.to_csv( str( item ) + '_Performance_table.txt', index = False, encoding = 'utf-8' ) "
   ]
  }
 ],
 "metadata": {
  "kernelspec": {
   "display_name": "Python 3",
   "language": "python",
   "name": "python3"
  },
  "language_info": {
   "codemirror_mode": {
    "name": "ipython",
    "version": 3
   },
   "file_extension": ".py",
   "mimetype": "text/x-python",
   "name": "python",
   "nbconvert_exporter": "python",
   "pygments_lexer": "ipython3",
   "version": "3.6.8"
  }
 },
 "nbformat": 4,
 "nbformat_minor": 2
}
